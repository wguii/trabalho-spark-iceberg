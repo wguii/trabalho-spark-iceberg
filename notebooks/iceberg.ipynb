{
 "cells": [
  {
   "cell_type": "markdown",
   "id": "f38cc944-2208-45a5-9a18-8e44c5212c4d",
   "metadata": {},
   "source": [
    "# GERANDO SESSÃO SPARK"
   ]
  },
  {
   "cell_type": "code",
   "execution_count": 1,
   "id": "f40af05b-d213-4e5a-90e0-f0df0aed5dc4",
   "metadata": {},
   "outputs": [
    {
     "name": "stderr",
     "output_type": "stream",
     "text": [
      "25/10/02 15:04:22 WARN Utils: Your hostname, DESKTOP-JLUDO09 resolves to a loopback address: 127.0.1.1; using 172.27.76.95 instead (on interface eth0)\n",
      "25/10/02 15:04:22 WARN Utils: Set SPARK_LOCAL_IP if you need to bind to another address\n"
     ]
    },
    {
     "name": "stdout",
     "output_type": "stream",
     "text": [
      ":: loading settings :: url = jar:file:/home/guizap/sparkiceberg-lab/.venv/lib/python3.11/site-packages/pyspark/jars/ivy-2.5.1.jar!/org/apache/ivy/core/settings/ivysettings.xml\n"
     ]
    },
    {
     "name": "stderr",
     "output_type": "stream",
     "text": [
      "Ivy Default Cache set to: /home/guizap/.ivy2/cache\n",
      "The jars for the packages stored in: /home/guizap/.ivy2/jars\n",
      "org.apache.iceberg#iceberg-spark-runtime-3.5_2.12 added as a dependency\n",
      ":: resolving dependencies :: org.apache.spark#spark-submit-parent-9c5407dc-5f29-4182-8ced-39245d963b1e;1.0\n",
      "\tconfs: [default]\n",
      "\tfound org.apache.iceberg#iceberg-spark-runtime-3.5_2.12;1.6.1 in central\n",
      ":: resolution report :: resolve 135ms :: artifacts dl 2ms\n",
      "\t:: modules in use:\n",
      "\torg.apache.iceberg#iceberg-spark-runtime-3.5_2.12;1.6.1 from central in [default]\n",
      "\t---------------------------------------------------------------------\n",
      "\t|                  |            modules            ||   artifacts   |\n",
      "\t|       conf       | number| search|dwnlded|evicted|| number|dwnlded|\n",
      "\t---------------------------------------------------------------------\n",
      "\t|      default     |   1   |   0   |   0   |   0   ||   1   |   0   |\n",
      "\t---------------------------------------------------------------------\n",
      ":: retrieving :: org.apache.spark#spark-submit-parent-9c5407dc-5f29-4182-8ced-39245d963b1e\n",
      "\tconfs: [default]\n",
      "\t0 artifacts copied, 1 already retrieved (0kB/3ms)\n",
      "25/10/02 15:04:23 WARN NativeCodeLoader: Unable to load native-hadoop library for your platform... using builtin-java classes where applicable\n",
      "Setting default log level to \"WARN\".\n",
      "To adjust logging level use sc.setLogLevel(newLevel). For SparkR, use setLogLevel(newLevel).\n"
     ]
    }
   ],
   "source": [
    "from pyspark.sql import SparkSession\n",
    "\n",
    "spark = SparkSession.builder \\\n",
    "    .appName(\"IcebergExample\") \\\n",
    "    .config(\"spark.jars.packages\", \"org.apache.iceberg:iceberg-spark-runtime-3.5_2.12:1.6.1\") \\\n",
    "    .config(\"spark.sql.extensions\", \"org.apache.iceberg.spark.extensions.IcebergSparkSessionExtensions\") \\\n",
    "    .config(\"spark.sql.catalog.local\", \"org.apache.iceberg.spark.SparkCatalog\") \\\n",
    "    .config(\"spark.sql.catalog.local.type\", \"hadoop\") \\\n",
    "    .config(\"spark.sql.catalog.local.warehouse\", \"spark-warehouse/iceberg\") \\\n",
    "    .getOrCreate()"
   ]
  },
  {
   "cell_type": "markdown",
   "id": "8f957651-7b08-43e7-be5a-877f10da93f6",
   "metadata": {},
   "source": [
    "# LENDO CSV E TRATANDO OS DADOS DA COLUNA T PARA ANÁLISES"
   ]
  },
  {
   "cell_type": "code",
   "execution_count": 68,
   "id": "9088b971-35ee-4da5-a49a-ac0a85120f07",
   "metadata": {
    "scrolled": true
   },
   "outputs": [
    {
     "name": "stdout",
     "output_type": "stream",
     "text": [
      "root\n",
      " |-- Date: string (nullable = true)\n",
      " |-- Time: string (nullable = true)\n",
      " |-- CO(GT): string (nullable = true)\n",
      " |-- PT08.S1(CO): string (nullable = true)\n",
      " |-- NMHC(GT): string (nullable = true)\n",
      " |-- C6H6(GT): string (nullable = true)\n",
      " |-- PT08.S2(NMHC): string (nullable = true)\n",
      " |-- NOx(GT): string (nullable = true)\n",
      " |-- PT08.S3(NOx): string (nullable = true)\n",
      " |-- NO2(GT): string (nullable = true)\n",
      " |-- PT08.S4(NO2): string (nullable = true)\n",
      " |-- PT08.S5(O3): string (nullable = true)\n",
      " |-- T: string (nullable = true)\n",
      " |-- RH: string (nullable = true)\n",
      " |-- AH: string (nullable = true)\n",
      "\n",
      "+----------+--------+------+-----------+--------+--------+-------------+-------+------------+-------+------------+-----------+----+----+------+\n",
      "|      Date|    Time|CO(GT)|PT08.S1(CO)|NMHC(GT)|C6H6(GT)|PT08.S2(NMHC)|NOx(GT)|PT08.S3(NOx)|NO2(GT)|PT08.S4(NO2)|PT08.S5(O3)|   T|  RH|    AH|\n",
      "+----------+--------+------+-----------+--------+--------+-------------+-------+------------+-------+------------+-----------+----+----+------+\n",
      "|10/03/2004|18.00.00|   2,6|       1360|     150|    11,9|         1046|    166|        1056|    113|        1692|       1268|13,6|48,9|0,7578|\n",
      "|10/03/2004|19.00.00|     2|       1292|     112|     9,4|          955|    103|        1174|     92|        1559|        972|13,3|47,7|0,7255|\n",
      "|10/03/2004|20.00.00|   2,2|       1402|      88|     9,0|          939|    131|        1140|    114|        1555|       1074|11,9|54,0|0,7502|\n",
      "|10/03/2004|21.00.00|   2,2|       1376|      80|     9,2|          948|    172|        1092|    122|        1584|       1203|11,0|60,0|0,7867|\n",
      "|10/03/2004|22.00.00|   1,6|       1272|      51|     6,5|          836|    131|        1205|    116|        1490|       1110|11,2|59,6|0,7888|\n",
      "+----------+--------+------+-----------+--------+--------+-------------+-------+------------+-------+------------+-----------+----+----+------+\n",
      "only showing top 5 rows\n",
      "\n"
     ]
    }
   ],
   "source": [
    "df = spark.read \\\n",
    "    .option(\"header\", True) \\\n",
    "    .option(\"inferSchema\", False) \\\n",
    "    .option(\"delimiter\", \";\") \\\n",
    "    .csv(\"data/sample.csv\")\n",
    "\n",
    "df = df.drop(\"_c15\", \"_c16\")\n",
    "df.printSchema()\n",
    "df.show(5)"
   ]
  },
  {
   "cell_type": "code",
   "execution_count": 70,
   "id": "b5dbdb43-2867-4493-84f0-fc4b376d91d5",
   "metadata": {},
   "outputs": [
    {
     "name": "stdout",
     "output_type": "stream",
     "text": [
      "+----------+--------+------+-----------+--------+--------+-------------+-------+------------+-------+------------+-----------+----+----+------+\n",
      "|      Date|    Time|CO(GT)|PT08.S1(CO)|NMHC(GT)|C6H6(GT)|PT08.S2(NMHC)|NOx(GT)|PT08.S3(NOx)|NO2(GT)|PT08.S4(NO2)|PT08.S5(O3)|   T|  RH|    AH|\n",
      "+----------+--------+------+-----------+--------+--------+-------------+-------+------------+-------+------------+-----------+----+----+------+\n",
      "|10/03/2004|18.00.00|   2,6|       1360|     150|    11,9|         1046|    166|        1056|    113|        1692|       1268|13.6|48,9|0,7578|\n",
      "|10/03/2004|19.00.00|     2|       1292|     112|     9,4|          955|    103|        1174|     92|        1559|        972|13.3|47,7|0,7255|\n",
      "|10/03/2004|20.00.00|   2,2|       1402|      88|     9,0|          939|    131|        1140|    114|        1555|       1074|11.9|54,0|0,7502|\n",
      "|10/03/2004|21.00.00|   2,2|       1376|      80|     9,2|          948|    172|        1092|    122|        1584|       1203|11.0|60,0|0,7867|\n",
      "|10/03/2004|22.00.00|   1,6|       1272|      51|     6,5|          836|    131|        1205|    116|        1490|       1110|11.2|59,6|0,7888|\n",
      "+----------+--------+------+-----------+--------+--------+-------------+-------+------------+-------+------------+-----------+----+----+------+\n",
      "only showing top 5 rows\n",
      "\n",
      "root\n",
      " |-- Date: string (nullable = true)\n",
      " |-- Time: string (nullable = true)\n",
      " |-- CO(GT): string (nullable = true)\n",
      " |-- PT08.S1(CO): string (nullable = true)\n",
      " |-- NMHC(GT): string (nullable = true)\n",
      " |-- C6H6(GT): string (nullable = true)\n",
      " |-- PT08.S2(NMHC): string (nullable = true)\n",
      " |-- NOx(GT): string (nullable = true)\n",
      " |-- PT08.S3(NOx): string (nullable = true)\n",
      " |-- NO2(GT): string (nullable = true)\n",
      " |-- PT08.S4(NO2): string (nullable = true)\n",
      " |-- PT08.S5(O3): string (nullable = true)\n",
      " |-- T: double (nullable = true)\n",
      " |-- RH: string (nullable = true)\n",
      " |-- AH: string (nullable = true)\n",
      "\n",
      "+----+\n",
      "|   T|\n",
      "+----+\n",
      "|13.6|\n",
      "|13.3|\n",
      "|11.9|\n",
      "|11.0|\n",
      "|11.2|\n",
      "|11.2|\n",
      "|11.3|\n",
      "|10.7|\n",
      "|10.7|\n",
      "|10.3|\n",
      "|10.1|\n",
      "|11.0|\n",
      "|10.5|\n",
      "|10.2|\n",
      "|10.8|\n",
      "|10.5|\n",
      "|10.8|\n",
      "|10.5|\n",
      "| 9.5|\n",
      "| 8.3|\n",
      "+----+\n",
      "only showing top 20 rows\n",
      "\n"
     ]
    }
   ],
   "source": [
    "from pyspark.sql.functions import regexp_replace, col\n",
    "\n",
    "df = df.withColumn(\"T\", regexp_replace(col(\"T\"), r\"[^0-9.]\", \"\").cast(\"double\"))\n",
    "df = df.withColumn(\"T\", col(\"T\") / 10)\n",
    "\n",
    "df.show(5)\n",
    "df.printSchema()\n",
    "df.select(\"T\").show(20)"
   ]
  },
  {
   "cell_type": "markdown",
   "id": "6ce57c4c-867b-47bd-a84a-8e8f8fd0c562",
   "metadata": {},
   "source": [
    "# CRIANDO A TABELA ICEBERG"
   ]
  },
  {
   "cell_type": "code",
   "execution_count": 71,
   "id": "9503137e-32b9-466e-9470-9e1f7124dc76",
   "metadata": {},
   "outputs": [],
   "source": [
    "df.write.format(\"iceberg\").mode(\"overwrite\").saveAsTable(\"local.sample_data\")"
   ]
  },
  {
   "cell_type": "code",
   "execution_count": 72,
   "id": "a7bd3118-2258-40ef-805c-58de96ee2fe9",
   "metadata": {},
   "outputs": [
    {
     "name": "stdout",
     "output_type": "stream",
     "text": [
      "+----------+--------+------+-----------+--------+--------+-------------+-------+------------+-------+------------+-----------+----+----+------+\n",
      "|      Date|    Time|CO(GT)|PT08.S1(CO)|NMHC(GT)|C6H6(GT)|PT08.S2(NMHC)|NOx(GT)|PT08.S3(NOx)|NO2(GT)|PT08.S4(NO2)|PT08.S5(O3)|   T|  RH|    AH|\n",
      "+----------+--------+------+-----------+--------+--------+-------------+-------+------------+-------+------------+-----------+----+----+------+\n",
      "|10/03/2004|18.00.00|   2,6|       1360|     150|    11,9|         1046|    166|        1056|    113|        1692|       1268|13.6|48,9|0,7578|\n",
      "|10/03/2004|19.00.00|     2|       1292|     112|     9,4|          955|    103|        1174|     92|        1559|        972|13.3|47,7|0,7255|\n",
      "|10/03/2004|20.00.00|   2,2|       1402|      88|     9,0|          939|    131|        1140|    114|        1555|       1074|11.9|54,0|0,7502|\n",
      "|10/03/2004|21.00.00|   2,2|       1376|      80|     9,2|          948|    172|        1092|    122|        1584|       1203|11.0|60,0|0,7867|\n",
      "|10/03/2004|22.00.00|   1,6|       1272|      51|     6,5|          836|    131|        1205|    116|        1490|       1110|11.2|59,6|0,7888|\n",
      "|10/03/2004|23.00.00|   1,2|       1197|      38|     4,7|          750|     89|        1337|     96|        1393|        949|11.2|59,2|0,7848|\n",
      "|11/03/2004|00.00.00|   1,2|       1185|      31|     3,6|          690|     62|        1462|     77|        1333|        733|11.3|56,8|0,7603|\n",
      "|11/03/2004|01.00.00|     1|       1136|      31|     3,3|          672|     62|        1453|     76|        1333|        730|10.7|60,0|0,7702|\n",
      "|11/03/2004|02.00.00|   0,9|       1094|      24|     2,3|          609|     45|        1579|     60|        1276|        620|10.7|59,7|0,7648|\n",
      "|11/03/2004|03.00.00|   0,6|       1010|      19|     1,7|          561|   -200|        1705|   -200|        1235|        501|10.3|60,2|0,7517|\n",
      "|11/03/2004|04.00.00|  -200|       1011|      14|     1,3|          527|     21|        1818|     34|        1197|        445|10.1|60,5|0,7465|\n",
      "|11/03/2004|05.00.00|   0,7|       1066|       8|     1,1|          512|     16|        1918|     28|        1182|        422|11.0|56,2|0,7366|\n",
      "|11/03/2004|06.00.00|   0,7|       1052|      16|     1,6|          553|     34|        1738|     48|        1221|        472|10.5|58,1|0,7353|\n",
      "|11/03/2004|07.00.00|   1,1|       1144|      29|     3,2|          667|     98|        1490|     82|        1339|        730|10.2|59,6|0,7417|\n",
      "|11/03/2004|08.00.00|     2|       1333|      64|     8,0|          900|    174|        1136|    112|        1517|       1102|10.8|57,4|0,7408|\n",
      "|11/03/2004|09.00.00|   2,2|       1351|      87|     9,5|          960|    129|        1079|    101|        1583|       1028|10.5|60,6|0,7691|\n",
      "|11/03/2004|10.00.00|   1,7|       1233|      77|     6,3|          827|    112|        1218|     98|        1446|        860|10.8|58,4|0,7552|\n",
      "|11/03/2004|11.00.00|   1,5|       1179|      43|     5,0|          762|     95|        1328|     92|        1362|        671|10.5|57,9|0,7352|\n",
      "|11/03/2004|12.00.00|   1,6|       1236|      61|     5,2|          774|    104|        1301|     95|        1401|        664| 9.5|66,8|0,7951|\n",
      "|11/03/2004|13.00.00|   1,9|       1286|      63|     7,3|          869|    146|        1162|    112|        1537|        799| 8.3|76,4|0,8393|\n",
      "+----------+--------+------+-----------+--------+--------+-------------+-------+------------+-------+------------+-----------+----+----+------+\n",
      "only showing top 20 rows\n",
      "\n"
     ]
    }
   ],
   "source": [
    "spark.sql(\"SELECT * FROM local.sample_data\").show()"
   ]
  },
  {
   "cell_type": "code",
   "execution_count": 73,
   "id": "8a3f25bb-a090-4086-aadc-5456b072c73a",
   "metadata": {},
   "outputs": [
    {
     "name": "stdout",
     "output_type": "stream",
     "text": [
      "+----------+--------+------+-----------+--------+--------+-------------+-------+------------+-------+------------+-----------+----+----+------+\n",
      "|      Date|    Time|CO(GT)|PT08.S1(CO)|NMHC(GT)|C6H6(GT)|PT08.S2(NMHC)|NOx(GT)|PT08.S3(NOx)|NO2(GT)|PT08.S4(NO2)|PT08.S5(O3)|   T|  RH|    AH|\n",
      "+----------+--------+------+-----------+--------+--------+-------------+-------+------------+-------+------------+-----------+----+----+------+\n",
      "|10/03/2004|18.00.00|   2,6|       1360|     150|    11,9|         1046|    166|        1056|    113|        1692|       1268|13.6|48,9|0,7578|\n",
      "|10/03/2004|19.00.00|     2|       1292|     112|     9,4|          955|    103|        1174|     92|        1559|        972|13.3|47,7|0,7255|\n",
      "|10/03/2004|20.00.00|   2,2|       1402|      88|     9,0|          939|    131|        1140|    114|        1555|       1074|11.9|54,0|0,7502|\n",
      "|10/03/2004|21.00.00|   2,2|       1376|      80|     9,2|          948|    172|        1092|    122|        1584|       1203|11.0|60,0|0,7867|\n",
      "|10/03/2004|22.00.00|   1,6|       1272|      51|     6,5|          836|    131|        1205|    116|        1490|       1110|11.2|59,6|0,7888|\n",
      "|10/03/2004|23.00.00|   1,2|       1197|      38|     4,7|          750|     89|        1337|     96|        1393|        949|11.2|59,2|0,7848|\n",
      "|11/03/2004|00.00.00|   1,2|       1185|      31|     3,6|          690|     62|        1462|     77|        1333|        733|11.3|56,8|0,7603|\n",
      "|11/03/2004|01.00.00|     1|       1136|      31|     3,3|          672|     62|        1453|     76|        1333|        730|10.7|60,0|0,7702|\n",
      "|11/03/2004|02.00.00|   0,9|       1094|      24|     2,3|          609|     45|        1579|     60|        1276|        620|10.7|59,7|0,7648|\n",
      "|11/03/2004|03.00.00|   0,6|       1010|      19|     1,7|          561|   -200|        1705|   -200|        1235|        501|10.3|60,2|0,7517|\n",
      "|11/03/2004|04.00.00|  -200|       1011|      14|     1,3|          527|     21|        1818|     34|        1197|        445|10.1|60,5|0,7465|\n",
      "|11/03/2004|05.00.00|   0,7|       1066|       8|     1,1|          512|     16|        1918|     28|        1182|        422|11.0|56,2|0,7366|\n",
      "|11/03/2004|06.00.00|   0,7|       1052|      16|     1,6|          553|     34|        1738|     48|        1221|        472|10.5|58,1|0,7353|\n",
      "|11/03/2004|07.00.00|   1,1|       1144|      29|     3,2|          667|     98|        1490|     82|        1339|        730|10.2|59,6|0,7417|\n",
      "|11/03/2004|08.00.00|     2|       1333|      64|     8,0|          900|    174|        1136|    112|        1517|       1102|10.8|57,4|0,7408|\n",
      "|11/03/2004|09.00.00|   2,2|       1351|      87|     9,5|          960|    129|        1079|    101|        1583|       1028|10.5|60,6|0,7691|\n",
      "|11/03/2004|10.00.00|   1,7|       1233|      77|     6,3|          827|    112|        1218|     98|        1446|        860|10.8|58,4|0,7552|\n",
      "|11/03/2004|11.00.00|   1,5|       1179|      43|     5,0|          762|     95|        1328|     92|        1362|        671|10.5|57,9|0,7352|\n",
      "|11/03/2004|18.00.00|   4,8|       1581|     307|    20,8|         1319|    281|         799|    151|        2083|       1409|10.3|64,2|0,8065|\n",
      "|12/03/2004|10.00.00|   3,1|       1350|     208|    14,0|         1118|    187|         912|    122|        1712|       1237|13.2|41,7|0,6320|\n",
      "+----------+--------+------+-----------+--------+--------+-------------+-------+------------+-------+------------+-----------+----+----+------+\n",
      "only showing top 20 rows\n",
      "\n"
     ]
    }
   ],
   "source": [
    "spark.sql(\"SELECT * FROM local.sample_data WHERE T > 10\").show()"
   ]
  },
  {
   "cell_type": "markdown",
   "id": "0a67f075-0be7-4544-ac57-f211ee518d5e",
   "metadata": {},
   "source": [
    "# INSERT"
   ]
  },
  {
   "cell_type": "code",
   "execution_count": 83,
   "id": "4b2d0ec8-9532-43ea-b614-05d882ef929f",
   "metadata": {},
   "outputs": [
    {
     "data": {
      "text/plain": [
       "DataFrame[]"
      ]
     },
     "execution_count": 83,
     "metadata": {},
     "output_type": "execute_result"
    }
   ],
   "source": [
    "spark.sql(\"\"\"\n",
    "INSERT INTO local.sample_data\n",
    "VALUES (\n",
    "    '15/03/2020',  -- Date\n",
    "    '14.00.00',    -- Time\n",
    "    '1.2',         -- CO(GT)\n",
    "    '1300',        -- PT08.S1(CO)\n",
    "    '50',          -- NMHC(GT)\n",
    "    '0.3',         -- C6H6(GT)\n",
    "    '1100',        -- PT08.S2(NMHC)\n",
    "    '80',          -- NOx(GT)\n",
    "    '1000',        -- PT08.S3(NOx)\n",
    "    '40',          -- NO2(GT)\n",
    "    '1500',        -- PT08.S4(NO2)\n",
    "    '1200',        -- PT08.S5(O3)\n",
    "    25.5,          -- T\n",
    "    '45',          -- RH\n",
    "    '0.8'          -- AH\n",
    ")\n",
    "\"\"\")\n"
   ]
  },
  {
   "cell_type": "code",
   "execution_count": 84,
   "id": "c31a83bb-ec2d-41f6-a8f0-ed9bb58177af",
   "metadata": {},
   "outputs": [
    {
     "name": "stdout",
     "output_type": "stream",
     "text": [
      "+----------+--------+------+-----------+--------+--------+-------------+-------+------------+-------+------------+-----------+----+---+---+\n",
      "|      Date|    Time|CO(GT)|PT08.S1(CO)|NMHC(GT)|C6H6(GT)|PT08.S2(NMHC)|NOx(GT)|PT08.S3(NOx)|NO2(GT)|PT08.S4(NO2)|PT08.S5(O3)|   T| RH| AH|\n",
      "+----------+--------+------+-----------+--------+--------+-------------+-------+------------+-------+------------+-----------+----+---+---+\n",
      "|15/03/2020|14.00.00|   1.2|       1300|      50|     0.3|         1100|     80|        1000|     40|        1500|       1200|25.5| 45|0.8|\n",
      "+----------+--------+------+-----------+--------+--------+-------------+-------+------------+-------+------------+-----------+----+---+---+\n",
      "\n"
     ]
    }
   ],
   "source": [
    "spark.sql(\"SELECT * from local.sample_data WHERE date = '15/03/2020'\").show()"
   ]
  },
  {
   "cell_type": "markdown",
   "id": "34818a30-019d-4a8a-bc6d-eb48e6e6c10f",
   "metadata": {},
   "source": [
    "# UPDATE"
   ]
  },
  {
   "cell_type": "code",
   "execution_count": 85,
   "id": "7494f568-c271-4ea9-a1da-f90451e85d0b",
   "metadata": {},
   "outputs": [
    {
     "data": {
      "text/plain": [
       "DataFrame[]"
      ]
     },
     "execution_count": 85,
     "metadata": {},
     "output_type": "execute_result"
    }
   ],
   "source": [
    "spark.sql(\"\"\"\n",
    "UPDATE local.sample_data\n",
    "SET T = T + 1.0\n",
    "WHERE Date = '15/03/2020'\n",
    "\"\"\")\n"
   ]
  },
  {
   "cell_type": "code",
   "execution_count": 86,
   "id": "1a107f18-abb0-4849-85e9-a5130330ab1c",
   "metadata": {},
   "outputs": [
    {
     "name": "stdout",
     "output_type": "stream",
     "text": [
      "+----------+--------+------+-----------+--------+--------+-------------+-------+------------+-------+------------+-----------+----+---+---+\n",
      "|      Date|    Time|CO(GT)|PT08.S1(CO)|NMHC(GT)|C6H6(GT)|PT08.S2(NMHC)|NOx(GT)|PT08.S3(NOx)|NO2(GT)|PT08.S4(NO2)|PT08.S5(O3)|   T| RH| AH|\n",
      "+----------+--------+------+-----------+--------+--------+-------------+-------+------------+-------+------------+-----------+----+---+---+\n",
      "|15/03/2020|14.00.00|   1.2|       1300|      50|     0.3|         1100|     80|        1000|     40|        1500|       1200|26.5| 45|0.8|\n",
      "+----------+--------+------+-----------+--------+--------+-------------+-------+------------+-------+------------+-----------+----+---+---+\n",
      "\n"
     ]
    }
   ],
   "source": [
    "spark.sql(\"SELECT * from local.sample_data WHERE date = '15/03/2020'\").show()"
   ]
  },
  {
   "cell_type": "markdown",
   "id": "63cc25ea-cd70-4dc7-9ddc-800702a59adb",
   "metadata": {},
   "source": [
    "# DELETE"
   ]
  },
  {
   "cell_type": "code",
   "execution_count": 87,
   "id": "3ef95aff-0bbb-49a1-bb50-5d927dce588b",
   "metadata": {},
   "outputs": [
    {
     "data": {
      "text/plain": [
       "DataFrame[]"
      ]
     },
     "execution_count": 87,
     "metadata": {},
     "output_type": "execute_result"
    }
   ],
   "source": [
    "spark.sql(\"\"\"\n",
    "DELETE FROM local.sample_data\n",
    "WHERE Date = '15/03/2020' \n",
    "\"\"\")\n"
   ]
  },
  {
   "cell_type": "code",
   "execution_count": 89,
   "id": "9cd25759-3768-4130-bc92-4823c425fe08",
   "metadata": {},
   "outputs": [
    {
     "name": "stdout",
     "output_type": "stream",
     "text": [
      "+----+----+------+-----------+--------+--------+-------------+-------+------------+-------+------------+-----------+---+---+---+\n",
      "|Date|Time|CO(GT)|PT08.S1(CO)|NMHC(GT)|C6H6(GT)|PT08.S2(NMHC)|NOx(GT)|PT08.S3(NOx)|NO2(GT)|PT08.S4(NO2)|PT08.S5(O3)|  T| RH| AH|\n",
      "+----+----+------+-----------+--------+--------+-------------+-------+------------+-------+------------+-----------+---+---+---+\n",
      "+----+----+------+-----------+--------+--------+-------------+-------+------------+-------+------------+-----------+---+---+---+\n",
      "\n"
     ]
    }
   ],
   "source": [
    "spark.sql(\"SELECT * from local.sample_data WHERE date = '15/03/2020'\").show()"
   ]
  },
  {
   "cell_type": "code",
   "execution_count": null,
   "id": "e8816a8c-f440-4e1b-8067-23fd7340966c",
   "metadata": {},
   "outputs": [],
   "source": []
  }
 ],
 "metadata": {
  "kernelspec": {
   "display_name": "Python 3 (ipykernel)",
   "language": "python",
   "name": "python3"
  },
  "language_info": {
   "codemirror_mode": {
    "name": "ipython",
    "version": 3
   },
   "file_extension": ".py",
   "mimetype": "text/x-python",
   "name": "python",
   "nbconvert_exporter": "python",
   "pygments_lexer": "ipython3",
   "version": "3.11.9"
  }
 },
 "nbformat": 4,
 "nbformat_minor": 5
}
